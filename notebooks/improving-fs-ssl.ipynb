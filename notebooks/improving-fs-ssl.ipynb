{
  "nbformat": 4,
  "nbformat_minor": 0,
  "metadata": {
    "colab": {
      "name": "MCP_FS.ipynb",
      "private_outputs": true,
      "provenance": [],
      "collapsed_sections": [
        "Wf9CIYBVP67k",
        "lsLiLlIajlRu",
        "q8HnaSe_alzV"
      ],
      "toc_visible": true
    },
    "kernelspec": {
      "name": "python3",
      "display_name": "Python 3"
    },
    "accelerator": "GPU"
  },
  "cells": [
    {
      "cell_type": "markdown",
      "metadata": {
        "id": "jWU9OWEBPY4g"
      },
      "source": [
        "# Improving Few-Shot Learning with Auxiliary Self-Supervised Pretext Tasks\n",
        "\n",
        "Run the project with Collab Free GPU 😁!!"
      ]
    },
    {
      "cell_type": "markdown",
      "metadata": {
        "id": "pP0uMz24Fg1B"
      },
      "source": [
        "Register Credentials"
      ]
    },
    {
      "cell_type": "code",
      "metadata": {
        "id": "HbMGprZJFee3"
      },
      "source": [
        "from getpass import getpass\n",
        "\n",
        "# Github \n",
        "repository = \"improving-fs-ssl\"\n",
        "branch = \"master\"\n",
        "repository_base = \"nathanielsimard\""
      ],
      "execution_count": null,
      "outputs": []
    },
    {
      "cell_type": "code",
      "metadata": {
        "id": "qondvjdGcGTp"
      },
      "source": [
        "\"\"\"Helper to run command formated in python.\"\"\"\n",
        "import os\n",
        "\n",
        "def run(cmds, root=\"~\"):\n",
        "  if not isinstance(cmds, list):\n",
        "    cmds = [cmds]\n",
        "  os.system(f\"echo cd {root} > cmd.sh\")\n",
        "\n",
        "  for cmd in cmds:\n",
        "    os.system(f\"echo {cmd} >> cmd.sh\")\n",
        "  !bash cmd.sh\n",
        "\n",
        "run(\"nvidia-smi\")"
      ],
      "execution_count": null,
      "outputs": []
    },
    {
      "cell_type": "markdown",
      "metadata": {
        "id": "Wf9CIYBVP67k"
      },
      "source": [
        "## Install Project\n",
        "\n",
        "Install the project from Github."
      ]
    },
    {
      "cell_type": "markdown",
      "metadata": {
        "id": "m_Peu2YQOQp3"
      },
      "source": [
        "__Clone Repository__\n",
        "\n",
        "Clone the repository in the right location."
      ]
    },
    {
      "cell_type": "code",
      "metadata": {
        "id": "Kl6P5ka0BrgZ"
      },
      "source": [
        "run([\n",
        "     f\"git clone https://github.com/{repository_base}/{repository}.git\",\n",
        "])\n"
      ],
      "execution_count": null,
      "outputs": []
    },
    {
      "cell_type": "code",
      "metadata": {
        "id": "9_epDf-uCXL2"
      },
      "source": [
        "run([\"git pull\", f\"git checkout {branch}\"], root=f\"~/{repository}\")"
      ],
      "execution_count": null,
      "outputs": []
    },
    {
      "cell_type": "markdown",
      "metadata": {
        "id": "9zUWDtQSffRZ"
      },
      "source": [
        "Install Anaconda"
      ]
    },
    {
      "cell_type": "code",
      "metadata": {
        "id": "Ikid_lXwfaeG"
      },
      "source": [
        "miniconda_installer_script=\"Miniconda3-latest-Linux-x86_64.sh\"\n",
        "run([\n",
        "  f\"wget https://repo.continuum.io/miniconda/{miniconda_installer_script}\",\n",
        "  f\"chmod +x {miniconda_installer_script}\",\n",
        "  f\"sudo ./{miniconda_installer_script} -b\"\n",
        "])"
      ],
      "execution_count": null,
      "outputs": []
    },
    {
      "cell_type": "markdown",
      "metadata": {
        "id": "MC7UcN9tOqy5"
      },
      "source": [
        "## Running the Project\n",
        "\n",
        "Run the project based on the configuration."
      ]
    },
    {
      "cell_type": "code",
      "metadata": {
        "id": "1Cn9I3nEPQ1C"
      },
      "source": [
        "# Commands\n",
        "env_name = \"improving-fs-ssl\"\n",
        "cmd_create_env = [\n",
        "  \". ~/miniconda3/etc/profile.d/conda.sh\",\n",
        "  f\"conda create -n {env_name}\",              \n",
        "]\n",
        "\n",
        "cmd_load_env = [\n",
        "  \". ~/miniconda3/etc/profile.d/conda.sh\",\n",
        "  f\"conda activate {env_name}\",       \n",
        "]\n",
        "\n",
        "cmd_install = cmd_load_env + [\n",
        "  \"conda env update -f environment.yml\",\n",
        "  \"pip install ipykernel\",\n",
        "  \"pip install -e .\",\n",
        "]\n",
        "\n"
      ],
      "execution_count": null,
      "outputs": []
    },
    {
      "cell_type": "markdown",
      "metadata": {
        "id": "X8tgKZYTgeyN"
      },
      "source": [
        "### Install the dependencies"
      ]
    },
    {
      "cell_type": "code",
      "metadata": {
        "id": "u1RmSt2zcG3d"
      },
      "source": [
        "run(cmd_create_env, root=f\"~/{repository}\")\n",
        "run(cmd_install, root=f\"~/{repository}\")"
      ],
      "execution_count": null,
      "outputs": []
    },
    {
      "cell_type": "markdown",
      "metadata": {
        "id": "xDGQQzoJZ7I1"
      },
      "source": [
        "### Run paths"
      ]
    },
    {
      "cell_type": "code",
      "metadata": {
        "id": "VgxC3r4nZ37a"
      },
      "source": [
        "config = \"config/cifar_fs.yml config/supervised_byol.yml config/seed_1.yml\"\n",
        "output = \"/data/test/results\""
      ],
      "execution_count": null,
      "outputs": []
    },
    {
      "cell_type": "markdown",
      "metadata": {
        "id": "V7nwb4Ergkxw"
      },
      "source": [
        "### Train\n"
      ]
    },
    {
      "cell_type": "code",
      "metadata": {
        "id": "t02P7bClhwvZ"
      },
      "source": [
        "cmd_train = cmd_load_env + [\n",
        "  \"git pull\",\n",
        "  f\"./scripts/train.py -c {config} -o {output} -d cpu\",\n",
        "]\n",
        "run(cmd_train, root=f\"~/{repository}\")"
      ],
      "execution_count": null,
      "outputs": []
    },
    {
      "cell_type": "markdown",
      "metadata": {
        "id": "Sk67x-1pZoq2"
      },
      "source": [
        "### Test"
      ]
    },
    {
      "cell_type": "code",
      "metadata": {
        "id": "smCR2YB9-XYz"
      },
      "source": [
        "cmd_eval = cmd_load_env + [\n",
        "  \"git pull\",\n",
        "  f\"./scripts/eval.py -r {output} -d cuda\",\n",
        "]\n",
        "run(cmd_eval, root=f\"~/{repository}\")"
      ],
      "execution_count": null,
      "outputs": []
    },
    {
      "cell_type": "markdown",
      "metadata": {
        "id": "V1Wt6J6GZsaq"
      },
      "source": [
        "### Vizualization"
      ]
    },
    {
      "cell_type": "code",
      "metadata": {
        "id": "XHfLu65Nbvo9"
      },
      "source": [
        "cmd_viz = cmd_load_env + [\n",
        "  \"cd /root/MCP-FS\",\n",
        "  \"pwd\",\n",
        "  \"git pull\",\n",
        "  f\"./scripts/viz.py -r {output}\",\n",
        "]\n",
        "run(cmd_viz)"
      ],
      "execution_count": null,
      "outputs": []
    },
    {
      "cell_type": "markdown",
      "metadata": {
        "id": "lsLiLlIajlRu"
      },
      "source": [
        "## Download Results\n"
      ]
    },
    {
      "cell_type": "code",
      "metadata": {
        "id": "KGSN-lPPmJ0D"
      },
      "source": [
        "def compress(path):\n",
        "    run([\n",
        "          f\"tar -czvf results.tar.gz {path}\",\n",
        "    ])\n",
        "\n",
        "compress(\"/data/test/results\")"
      ],
      "execution_count": null,
      "outputs": []
    },
    {
      "cell_type": "code",
      "metadata": {
        "id": "9GA020E8eOid"
      },
      "source": [
        "from google.colab import files\n",
        "files.download('/root/results.tar.gz') "
      ],
      "execution_count": null,
      "outputs": []
    }
  ]
}